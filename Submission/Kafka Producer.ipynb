{
 "cells": [
  {
   "cell_type": "code",
   "execution_count": null,
   "id": "18a478fa",
   "metadata": {},
   "outputs": [],
   "source": [
    "import time\n",
    "import pandas as pd\n",
    "from kafka import KafkaProducer\n",
    "import json\n",
    "\n",
    "# Load the synthetic CSV file\n",
    "csv_path = \"Synthetic_Students_for_Streaming.csv\"\n",
    "df = pd.read_csv(csv_path)\n",
    "\n",
    "# Kafka configuration\n",
    "producer = KafkaProducer(\n",
    "    bootstrap_servers='localhost:9092',\n",
    "    value_serializer=lambda v: json.dumps(v).encode('utf-8')\n",
    ")\n",
    "\n",
    "# Send rows to Kafka topic one by one\n",
    "topic_name = \"depression-stream\"\n",
    "\n",
    "for _, row in df.iterrows():\n",
    "    message = row.to_dict()\n",
    "    print(f\"Sending: {message}\")\n",
    "    producer.send(topic_name, value=message)\n",
    "    time.sleep(5)  # simulate real-time streaming every 4 seconds\n",
    "\n",
    "producer.flush()\n",
    "producer.close()\n",
    "print(\"All records have been sent!\")"
   ]
  },
  {
   "cell_type": "code",
   "execution_count": null,
   "id": "e3f9b579",
   "metadata": {},
   "outputs": [],
   "source": []
  }
 ],
 "metadata": {
  "kernelspec": {
   "display_name": "Python 3 (ipykernel)",
   "language": "python",
   "name": "python3"
  },
  "language_info": {
   "codemirror_mode": {
    "name": "ipython",
    "version": 3
   },
   "file_extension": ".py",
   "mimetype": "text/x-python",
   "name": "python",
   "nbconvert_exporter": "python",
   "pygments_lexer": "ipython3",
   "version": "3.9.12"
  }
 },
 "nbformat": 4,
 "nbformat_minor": 5
}
